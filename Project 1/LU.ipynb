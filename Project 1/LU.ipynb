{
 "cells": [
  {
   "cell_type": "code",
   "execution_count": 56,
   "metadata": {},
   "outputs": [
    {
     "data": {
      "text/plain": [
       "0.0003337860107421875"
      ]
     },
     "execution_count": 56,
     "metadata": {},
     "output_type": "execute_result"
    }
   ],
   "source": [
    "import time          #we import time to be able to measure the time used for LU decomposition\n",
    "\n",
    "start = time.time()\n",
    "\n",
    "import pprint\n",
    "import scipy\n",
    "import scipy.linalg   # we import the libraries needed to carry out LU decomposition\n",
    "\n",
    "A = scipy.array([ [2, 1, 0, 0], [1, -2, 1, 0], [0, 1, -2, 1], [0, 0, 1, -2] ])\n",
    "P, L, U = scipy.linalg.lu(A)\n",
    "\n",
    "end = time.time()\n",
    "\n",
    "\n",
    "#measure time elapsed \n",
    "telap = end - start\n",
    "telap"
   ]
  },
  {
   "cell_type": "code",
   "execution_count": 32,
   "metadata": {},
   "outputs": [
    {
     "name": "stdout",
     "output_type": "stream",
     "text": [
      "[[ 1.     0.     0.     0.   ]\n",
      " [ 0.5    1.     0.     0.   ]\n",
      " [ 0.    -0.4    1.     0.   ]\n",
      " [ 0.    -0.    -0.625  1.   ]]\n"
     ]
    }
   ],
   "source": [
    "print (L)"
   ]
  },
  {
   "cell_type": "code",
   "execution_count": 33,
   "metadata": {},
   "outputs": [
    {
     "name": "stdout",
     "output_type": "stream",
     "text": [
      "[[ 2.     1.     0.     0.   ]\n",
      " [ 0.    -2.5    1.     0.   ]\n",
      " [ 0.     0.    -1.6    1.   ]\n",
      " [ 0.     0.     0.    -1.375]]\n"
     ]
    }
   ],
   "source": [
    "print (U)"
   ]
  },
  {
   "cell_type": "code",
   "execution_count": null,
   "metadata": {},
   "outputs": [],
   "source": []
  }
 ],
 "metadata": {
  "kernelspec": {
   "display_name": "Python 3",
   "language": "python",
   "name": "python3"
  },
  "language_info": {
   "codemirror_mode": {
    "name": "ipython",
    "version": 3
   },
   "file_extension": ".py",
   "mimetype": "text/x-python",
   "name": "python",
   "nbconvert_exporter": "python",
   "pygments_lexer": "ipython3",
   "version": "3.7.3"
  }
 },
 "nbformat": 4,
 "nbformat_minor": 2
}
